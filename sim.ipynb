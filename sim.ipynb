{
  "cells": [
    {
      "cell_type": "markdown",
      "metadata": {
        "id": "view-in-github",
        "colab_type": "text"
      },
      "source": [
        "<a href=\"https://colab.research.google.com/github/lin-k23/RISCA/blob/main/sim.ipynb\" target=\"_parent\"><img src=\"https://colab.research.google.com/assets/colab-badge.svg\" alt=\"Open In Colab\"/></a>"
      ]
    },
    {
      "cell_type": "markdown",
      "metadata": {
        "id": "R0yzsajE0LWS"
      },
      "source": [
        "# RISCA"
      ]
    },
    {
      "cell_type": "markdown",
      "metadata": {
        "id": "fau8tp4X0LWU"
      },
      "source": [
        "## Dependencies"
      ]
    },
    {
      "cell_type": "code",
      "execution_count": 16,
      "metadata": {
        "colab": {
          "base_uri": "https://localhost:8080/"
        },
        "id": "s25U5OWi0LWU",
        "outputId": "173bed99-8207-4501-8c9a-dda4a2ec0cf8"
      },
      "outputs": [
        {
          "output_type": "stream",
          "name": "stdout",
          "text": [
            "Cloning into 'SAR_ADC'...\n",
            "remote: Enumerating objects: 466, done.\u001b[K\n",
            "remote: Counting objects: 100% (466/466), done.\u001b[K\n",
            "remote: Compressing objects: 100% (281/281), done.\u001b[K\n",
            "remote: Total 466 (delta 274), reused 374 (delta 182), pack-reused 0 (from 0)\u001b[K\n",
            "Receiving objects: 100% (466/466), 3.72 MiB | 10.99 MiB/s, done.\n",
            "Resolving deltas: 100% (274/274), done.\n",
            "/content/SAR_ADC/script\n"
          ]
        }
      ],
      "source": [
        "!git clone https://github.com/lin-k23/SAR_ADC.git\n",
        "import pandas as pd\n",
        "import os\n",
        "%cd SAR_ADC/script\n",
        "from preset_mdl import preset_mdl\n",
        "from preset_pr import preset_pr\n",
        "from signal_source import signal_source\n",
        "from RISCA_core import RISCA_core\n",
        "from analyser.analyser_new import Analyser\n",
        "from util.load_assembler_xlsx import load_assembler_xlsx\n",
        "from util.display_dataframe import display_dataframe\n",
        "from util.select import select"
      ]
    },
    {
      "cell_type": "markdown",
      "metadata": {
        "id": "RuGvaog40LWU"
      },
      "source": [
        "## Set Parameters"
      ]
    },
    {
      "cell_type": "code",
      "execution_count": 17,
      "metadata": {
        "id": "2Ypmuo3q0LWU"
      },
      "outputs": [],
      "source": [
        "mdl = preset_mdl()\n",
        "pr = preset_pr()\n",
        "Mode='Single-Channel SAR' # @param ['Single-Channel SAR', '3xTI-SAR', '2-stage Pipe-Sar', '1st-order NS-SAR', '1st-order NS-SAR(with chopping)','3-stage Pipe-Sar'] {type:'string'}\n",
        "pr['conf_name']=select(Mode)\n",
        "pr['N_fft']=1024"
      ]
    },
    {
      "cell_type": "markdown",
      "metadata": {
        "id": "5HKborS10LWU"
      },
      "source": [
        "## Run Simulator"
      ]
    },
    {
      "cell_type": "code",
      "execution_count": 25,
      "metadata": {
        "colab": {
          "base_uri": "https://localhost:8080/",
          "height": 632
        },
        "id": "8vTJxsSw0LWU",
        "outputId": "f7feb490-c277-43b9-9b91-d1f575a42588"
      },
      "outputs": [
        {
          "output_type": "stream",
          "name": "stdout",
          "text": [
            "Loading file: ../config/sar/timing_table.xlsx\n",
            "[util.load_assembler_xlsx] parameter TI loaded: pr[TI]= 1\n",
            "[util.load_assembler_xlsx] parameter f_in_center1 loaded: pr[f_in_center1]= 270000000\n"
          ]
        },
        {
          "output_type": "display_data",
          "data": {
            "text/plain": [
              "<IPython.core.display.HTML object>"
            ],
            "text/html": [
              "<div style='text-align: center"
            ]
          },
          "metadata": {}
        },
        {
          "output_type": "display_data",
          "data": {
            "text/plain": [
              "<pandas.io.formats.style.Styler at 0x7dfae7249090>"
            ],
            "text/html": [
              "<style type=\"text/css\">\n",
              "#T_25c42 thead th {\n",
              "  background-color: #1E3A8A;\n",
              "  color: white;\n",
              "  font-weight: bold;\n",
              "  font-size: 14px;\n",
              "  text-align: center;\n",
              "  min-width: 150px;\n",
              "}\n",
              "#T_25c42 tbody td {\n",
              "  background-color: #F1F5F9;\n",
              "  color: #1F2937;\n",
              "  font-weight: bold;\n",
              "  font-size: 16px;\n",
              "  min-width: 150px;\n",
              "  max-width: 300px;\n",
              "  height: 40px;\n",
              "}\n",
              "#T_25c42 caption {\n",
              "  font-weight: bold;\n",
              "  color: white;\n",
              "  font-size: 20px;\n",
              "}\n",
              "#T_25c42 th {\n",
              "  font-weight: bold;\n",
              "  text-align: center;\n",
              "}\n",
              "#T_25c42 td {\n",
              "  color: #1F2937;\n",
              "  border: 3px solid #D1D5DB;\n",
              "}\n",
              "#T_25c42_row0_col0, #T_25c42_row0_col1, #T_25c42_row0_col2 {\n",
              "  text-align: center;\n",
              "}\n",
              "</style>\n",
              "<table id=\"T_25c42\" class=\"dataframe\">\n",
              "  <caption>Configuration Information for             Frame1 Frame2 Frame3\n",
              "Item                            \n",
              "CB1   OUT RST SAM1    MSB    LSB</caption>\n",
              "  <thead>\n",
              "    <tr>\n",
              "      <th class=\"blank level0\" >&nbsp;</th>\n",
              "      <th id=\"T_25c42_level0_col0\" class=\"col_heading level0 col0\" >Frame1</th>\n",
              "      <th id=\"T_25c42_level0_col1\" class=\"col_heading level0 col1\" >Frame2</th>\n",
              "      <th id=\"T_25c42_level0_col2\" class=\"col_heading level0 col2\" >Frame3</th>\n",
              "    </tr>\n",
              "    <tr>\n",
              "      <th class=\"index_name level0\" >Item</th>\n",
              "      <th class=\"blank col0\" >&nbsp;</th>\n",
              "      <th class=\"blank col1\" >&nbsp;</th>\n",
              "      <th class=\"blank col2\" >&nbsp;</th>\n",
              "    </tr>\n",
              "  </thead>\n",
              "  <tbody>\n",
              "    <tr>\n",
              "      <th id=\"T_25c42_level0_row0\" class=\"row_heading level0 row0\" >CB1</th>\n",
              "      <td id=\"T_25c42_row0_col0\" class=\"data row0 col0\" >OUT RST SAM1</td>\n",
              "      <td id=\"T_25c42_row0_col1\" class=\"data row0 col1\" >MSB</td>\n",
              "      <td id=\"T_25c42_row0_col2\" class=\"data row0 col2\" >LSB</td>\n",
              "    </tr>\n",
              "  </tbody>\n",
              "</table>\n"
            ]
          },
          "metadata": {}
        },
        {
          "output_type": "display_data",
          "data": {
            "text/plain": [
              "<IPython.core.display.HTML object>"
            ],
            "text/html": [
              "</div>"
            ]
          },
          "metadata": {}
        },
        {
          "output_type": "display_data",
          "data": {
            "text/plain": [
              "<Figure size 640x480 with 1 Axes>"
            ],
            "image/png": "[encoded data removed]"
          },
          "metadata": {}
        }
      ],
      "source": [
        "# @title Run Simulator\n",
        "pr_loaded = load_assembler_xlsx(os.path.join(\"../config\",pr['conf_name']))\n",
        "# update pr with pr_loaded\n",
        "pr.update(pr_loaded)\n",
        "cfg_info = pd.DataFrame(pr[\"T_assembler\"])\n",
        "# cfg_infon=pd.DataFrame(pr[\"cfg_table\"])\n",
        "display_dataframe(cfg_info,pr[\"T_assembler\"])\n",
        "\n",
        "# Convertion begins\n",
        "da = RISCA_core(mdl, pr, signal_source(pr, mdl))\n",
        "\n",
        "import matplotlib.pyplot as plt\n",
        "from PIL import Image\n",
        "img=Image.open(\"../pic/sar.png\")\n",
        "plt.imshow(img)\n",
        "plt.axis('off')\n",
        "plt.show()\n",
        "\n",
        "# Analyse the result\n",
        "test = Analyser(da, pr, mdl)\n",
        "test.mode_analyser()"
      ]
    },
    {
      "cell_type": "markdown",
      "source": [
        "## Single-Channel SAR"
      ],
      "metadata": {
        "id": "Pr6u7gDRAbXM"
      }
    },
    {
      "cell_type": "markdown",
      "source": [
        "**Array Usage**\n",
        "\n",
        "<figure>\n",
        "  <img src=\"https://i.imgur.com/ZRyqsSs.png\" width=\"600\"/>\n",
        "</figure>\n",
        "\n"
      ],
      "metadata": {
        "id": "ebp8YUk32Qn2"
      }
    },
    {
      "cell_type": "markdown",
      "source": [
        "## Multitasking_sarx2"
      ],
      "metadata": {
        "id": "8Zl46vhZBgSb"
      }
    },
    {
      "cell_type": "markdown",
      "source": [
        "**Array Usage**\n",
        "\n",
        "<figure>\n",
        "  <img src=\"https://i.imgur.com/4guQ7tR.png\" width=\"600\"/>\n",
        "</figure>"
      ],
      "metadata": {
        "id": "VQIx723E-0j8"
      }
    },
    {
      "cell_type": "markdown",
      "source": [
        "## Sar4x"
      ],
      "metadata": {
        "id": "fiSubEPaBrbi"
      }
    },
    {
      "cell_type": "markdown",
      "source": [
        "**Array Usage**\n",
        "\n",
        "<figure>\n",
        "  <img src=\"https://i.imgur.com/f21npca.png\" width=\"600\"/>\n",
        "</figure>"
      ],
      "metadata": {
        "id": "evG6QuHaAmVD"
      }
    },
    {
      "cell_type": "markdown",
      "source": [
        "## 3xTI-SAR"
      ],
      "metadata": {
        "id": "PC_nBHyUBVjH"
      }
    },
    {
      "cell_type": "markdown",
      "source": [
        "**Array Usage**\n",
        "\n",
        "<figure>\n",
        "  <img src=\"https://i.imgur.com/DnGDcA5.png\" width=\"600\"/>\n",
        "</figure>"
      ],
      "metadata": {
        "id": "Qbwj4DPmAIR8"
      }
    },
    {
      "cell_type": "markdown",
      "source": [
        "## 2-stage Pipe-Sar"
      ],
      "metadata": {
        "id": "4kkH-k7aB-DA"
      }
    },
    {
      "cell_type": "markdown",
      "source": [
        "**Array Usage**\n",
        "\n",
        "<figure>\n",
        "  <img src=\"https://i.imgur.com/bkj8NjW.png\" width=\"600\"/>\n",
        "</figure>"
      ],
      "metadata": {
        "id": "V0ZBNX6wCBU6"
      }
    },
    {
      "cell_type": "markdown",
      "source": [
        "## 3-stage Pipe-Sar"
      ],
      "metadata": {
        "id": "zLmEtvq1B4Us"
      }
    },
    {
      "cell_type": "markdown",
      "source": [
        "**Array Usage**\n",
        "\n",
        "<figure>\n",
        "  <img src=\"https://i.imgur.com/LfVP8de.png\" width=\"600\"/>\n",
        "</figure>"
      ],
      "metadata": {
        "id": "ghXUYs7CBzKD"
      }
    },
    {
      "cell_type": "markdown",
      "source": [
        "## 1st-order NS-SAR(with chopping)"
      ],
      "metadata": {
        "id": "WUXQ4m-ZCSi2"
      }
    },
    {
      "cell_type": "markdown",
      "source": [
        "**Array Usage**\n",
        "\n",
        "<figure>\n",
        "  <img src=\"https://i.imgur.com/lp6MLIP.png\" width=\"600\"/>\n",
        "</figure>"
      ],
      "metadata": {
        "id": "FeayxOnLCOJA"
      }
    },
    {
      "cell_type": "code",
      "source": [],
      "metadata": {
        "id": "2ZsJ25El2kSK"
      },
      "execution_count": null,
      "outputs": []
    }
  ],
  "metadata": {
    "kernelspec": {
      "display_name": "sar_adc",
      "language": "python",
      "name": "python3"
    },
    "language_info": {
      "codemirror_mode": {
        "name": "ipython",
        "version": 3
      },
      "file_extension": ".py",
      "mimetype": "text/x-python",
      "name": "python",
      "nbconvert_exporter": "python",
      "pygments_lexer": "ipython3",
      "version": "3.11.10"
    },
    "colab": {
      "provenance": [],
      "include_colab_link": true
    }
  },
  "nbformat": 4,
  "nbformat_minor": 0
}