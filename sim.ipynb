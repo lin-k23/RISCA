{
  "cells": [
    {
      "cell_type": "markdown",
      "metadata": {
        "id": "view-in-github",
        "colab_type": "text"
      },
      "source": [
        "<a href=\"https://colab.research.google.com/github/lin-k23/RISCA/blob/main/sim.ipynb\" target=\"_parent\"><img src=\"https://colab.research.google.com/assets/colab-badge.svg\" alt=\"Open In Colab\"/></a>"
      ]
    },
    {
      "cell_type": "markdown",
      "metadata": {
        "id": "R0yzsajE0LWS"
      },
      "source": [
        "# RISCA"
      ]
    },
    {
      "cell_type": "markdown",
      "metadata": {
        "id": "fau8tp4X0LWU"
      },
      "source": [
        "## Dependencies"
      ]
    },
    {
      "cell_type": "code",
      "execution_count": 1,
      "metadata": {
        "colab": {
          "base_uri": "https://localhost:8080/"
        },
        "id": "s25U5OWi0LWU",
        "outputId": "13bec6f0-bc00-4cdd-8acc-203410d875d2"
      },
      "outputs": [
        {
          "output_type": "stream",
          "name": "stdout",
          "text": [
            "Cloning into 'SAR_ADC'...\n",
            "remote: Enumerating objects: 442, done.\u001b[K\n",
            "remote: Counting objects: 100% (442/442), done.\u001b[K\n",
            "remote: Compressing objects: 100% (280/280), done.\u001b[K\n",
            "remote: Total 442 (delta 261), reused 340 (delta 159), pack-reused 0 (from 0)\u001b[K\n",
            "Receiving objects: 100% (442/442), 2.73 MiB | 8.46 MiB/s, done.\n",
            "Resolving deltas: 100% (261/261), done.\n",
            "/content/SAR_ADC/script\n"
          ]
        }
      ],
      "source": [
        "!git clone https://github.com/lin-k23/SAR_ADC.git\n",
        "import pandas as pd\n",
        "import os\n",
        "%cd SAR_ADC/script\n",
        "from preset_mdl import preset_mdl\n",
        "from preset_pr import preset_pr\n",
        "from signal_source import signal_source\n",
        "from RISCA_core import RISCA_core\n",
        "from analyser.analyser_new import Analyser\n",
        "from util.load_assembler_xlsx import load_assembler_xlsx\n",
        "from util.display_dataframe import display_dataframe\n",
        "from util.select import select"
      ]
    },
    {
      "cell_type": "markdown",
      "metadata": {
        "id": "RuGvaog40LWU"
      },
      "source": [
        "## Set Parameters"
      ]
    },
    {
      "cell_type": "code",
      "execution_count": 2,
      "metadata": {
        "id": "2Ypmuo3q0LWU"
      },
      "outputs": [],
      "source": [
        "mdl = preset_mdl()\n",
        "pr = preset_pr()\n",
        "Mode='Single-Channel SAR' # @param ['Single-Channel SAR', '3xTI-SAR', '2-stage Pipe-Sar', '1st-order NS-SAR', '1st-order NS-SAR(with chopping)','3-stage Pipe-Sar'] {type:'string'}\n",
        "pr['conf_name']=select(Mode)\n",
        "pr['N_fft']=1024"
      ]
    },
    {
      "cell_type": "markdown",
      "metadata": {
        "id": "5HKborS10LWU"
      },
      "source": [
        "## Run Simulator"
      ]
    },
    {
      "cell_type": "code",
      "execution_count": 6,
      "metadata": {
        "colab": {
          "base_uri": "https://localhost:8080/",
          "height": 956
        },
        "id": "8vTJxsSw0LWU",
        "outputId": "61e1dc51-43ef-4c6b-eae0-893c48867a5b"
      },
      "outputs": [
        {
          "output_type": "stream",
          "name": "stdout",
          "text": [
            "Loading file: ../config/sar/timing_table.xlsx\n",
            "[util.load_assembler_xlsx] parameter TI loaded: pr[TI]= 1\n",
            "[util.load_assembler_xlsx] parameter f_in_center1 loaded: pr[f_in_center1]= 270000000\n"
          ]
        },
        {
          "output_type": "display_data",
          "data": {
            "text/plain": [
              "<IPython.core.display.HTML object>"
            ],
            "text/html": [
              "<div style='text-align: center"
            ]
          },
          "metadata": {}
        },
        {
          "output_type": "display_data",
          "data": {
            "text/plain": [
              "<pandas.io.formats.style.Styler at 0x7e6eaea545e0>"
            ],
            "text/html": [
              "<style type=\"text/css\">\n",
              "#T_435d7 thead th {\n",
              "  background-color: #1E3A8A;\n",
              "  color: white;\n",
              "  font-weight: bold;\n",
              "  font-size: 14px;\n",
              "  text-align: center;\n",
              "  min-width: 150px;\n",
              "}\n",
              "#T_435d7 tbody td {\n",
              "  background-color: #F1F5F9;\n",
              "  color: #1F2937;\n",
              "  font-weight: bold;\n",
              "  font-size: 16px;\n",
              "  min-width: 150px;\n",
              "  max-width: 300px;\n",
              "  height: 40px;\n",
              "}\n",
              "#T_435d7 caption {\n",
              "  font-weight: bold;\n",
              "  color: white;\n",
              "  font-size: 20px;\n",
              "}\n",
              "#T_435d7 th {\n",
              "  font-weight: bold;\n",
              "  text-align: center;\n",
              "}\n",
              "#T_435d7 td {\n",
              "  color: #1F2937;\n",
              "  border: 3px solid #D1D5DB;\n",
              "}\n",
              "#T_435d7_row0_col0, #T_435d7_row0_col1, #T_435d7_row0_col2 {\n",
              "  text-align: center;\n",
              "}\n",
              "</style>\n",
              "<table id=\"T_435d7\" class=\"dataframe\">\n",
              "  <caption>Configuration Information for sar</caption>\n",
              "  <thead>\n",
              "    <tr>\n",
              "      <th class=\"blank level0\" >&nbsp;</th>\n",
              "      <th id=\"T_435d7_level0_col0\" class=\"col_heading level0 col0\" >Frame1</th>\n",
              "      <th id=\"T_435d7_level0_col1\" class=\"col_heading level0 col1\" >Frame2</th>\n",
              "      <th id=\"T_435d7_level0_col2\" class=\"col_heading level0 col2\" >Frame3</th>\n",
              "    </tr>\n",
              "    <tr>\n",
              "      <th class=\"index_name level0\" >Item</th>\n",
              "      <th class=\"blank col0\" >&nbsp;</th>\n",
              "      <th class=\"blank col1\" >&nbsp;</th>\n",
              "      <th class=\"blank col2\" >&nbsp;</th>\n",
              "    </tr>\n",
              "  </thead>\n",
              "  <tbody>\n",
              "    <tr>\n",
              "      <th id=\"T_435d7_level0_row0\" class=\"row_heading level0 row0\" >CB1</th>\n",
              "      <td id=\"T_435d7_row0_col0\" class=\"data row0 col0\" >OUT RST SAM1</td>\n",
              "      <td id=\"T_435d7_row0_col1\" class=\"data row0 col1\" >MSB</td>\n",
              "      <td id=\"T_435d7_row0_col2\" class=\"data row0 col2\" >LSB</td>\n",
              "    </tr>\n",
              "  </tbody>\n",
              "</table>\n"
            ]
          },
          "metadata": {}
        },
        {
          "output_type": "display_data",
          "data": {
            "text/plain": [
              "<IPython.core.display.HTML object>"
            ],
            "text/html": [
              "</div>"
            ]
          },
          "metadata": {}
        },
        {
          "output_type": "error",
          "ename": "FileNotFoundError",
          "evalue": "[Errno 2] No such file or directory: '/content/SAR_ADC/script/..\\\\pic\\\\nssar1o1c.png'",
          "traceback": [
            "\u001b[0;31m---------------------------------------------------------------------------\u001b[0m",
            "\u001b[0;31mFileNotFoundError\u001b[0m                         Traceback (most recent call last)",
            "\u001b[0;32m<ipython-input-6-78de123e4978>\u001b[0m in \u001b[0;36m<cell line: 16>\u001b[0;34m()\u001b[0m\n\u001b[1;32m     14\u001b[0m \u001b[0;31m# Analyse the result\u001b[0m\u001b[0;34m\u001b[0m\u001b[0;34m\u001b[0m\u001b[0m\n\u001b[1;32m     15\u001b[0m \u001b[0mtest\u001b[0m \u001b[0;34m=\u001b[0m \u001b[0mAnalyser\u001b[0m\u001b[0;34m(\u001b[0m\u001b[0mda\u001b[0m\u001b[0;34m,\u001b[0m \u001b[0mpr\u001b[0m\u001b[0;34m,\u001b[0m \u001b[0mmdl\u001b[0m\u001b[0;34m)\u001b[0m\u001b[0;34m\u001b[0m\u001b[0;34m\u001b[0m\u001b[0m\n\u001b[0;32m---> 16\u001b[0;31m \u001b[0mtest\u001b[0m\u001b[0;34m.\u001b[0m\u001b[0mmode_analyser\u001b[0m\u001b[0;34m(\u001b[0m\u001b[0;34m)\u001b[0m\u001b[0;34m\u001b[0m\u001b[0;34m\u001b[0m\u001b[0m\n\u001b[0m",
            "\u001b[0;32m/content/SAR_ADC/script/analyser/analyser_new.py\u001b[0m in \u001b[0;36m_sar_analyser\u001b[0;34m(self)\u001b[0m\n\u001b[1;32m     79\u001b[0m \u001b[0;34m\u001b[0m\u001b[0m\n\u001b[1;32m     80\u001b[0m         \u001b[0mplt\u001b[0m\u001b[0;34m.\u001b[0m\u001b[0msubplot\u001b[0m\u001b[0;34m(\u001b[0m\u001b[0;36m1\u001b[0m\u001b[0;34m,\u001b[0m \u001b[0;36m3\u001b[0m\u001b[0;34m,\u001b[0m \u001b[0;36m1\u001b[0m\u001b[0;34m)\u001b[0m\u001b[0;34m\u001b[0m\u001b[0;34m\u001b[0m\u001b[0m\n\u001b[0;32m---> 81\u001b[0;31m         \u001b[0mimg\u001b[0m \u001b[0;34m=\u001b[0m \u001b[0mImage\u001b[0m\u001b[0;34m.\u001b[0m\u001b[0mopen\u001b[0m\u001b[0;34m(\u001b[0m\u001b[0;34m\"..\\pic\\\\nssar1o1c.png\"\u001b[0m\u001b[0;34m)\u001b[0m\u001b[0;34m\u001b[0m\u001b[0;34m\u001b[0m\u001b[0m\n\u001b[0m\u001b[1;32m     82\u001b[0m         \u001b[0mplt\u001b[0m\u001b[0;34m.\u001b[0m\u001b[0mimshow\u001b[0m\u001b[0;34m(\u001b[0m\u001b[0mimg\u001b[0m\u001b[0;34m)\u001b[0m\u001b[0;34m\u001b[0m\u001b[0;34m\u001b[0m\u001b[0m\n\u001b[1;32m     83\u001b[0m         \u001b[0mplt\u001b[0m\u001b[0;34m.\u001b[0m\u001b[0maxis\u001b[0m\u001b[0;34m(\u001b[0m\u001b[0;34m\"off\"\u001b[0m\u001b[0;34m)\u001b[0m\u001b[0;34m\u001b[0m\u001b[0;34m\u001b[0m\u001b[0m\n",
            "\u001b[0;32m/usr/local/lib/python3.10/dist-packages/PIL/Image.py\u001b[0m in \u001b[0;36mopen\u001b[0;34m(fp, mode, formats)\u001b[0m\n\u001b[1;32m   3467\u001b[0m \u001b[0;34m\u001b[0m\u001b[0m\n\u001b[1;32m   3468\u001b[0m     \u001b[0;32mif\u001b[0m \u001b[0mfilename\u001b[0m\u001b[0;34m:\u001b[0m\u001b[0;34m\u001b[0m\u001b[0;34m\u001b[0m\u001b[0m\n\u001b[0;32m-> 3469\u001b[0;31m         \u001b[0mfp\u001b[0m \u001b[0;34m=\u001b[0m \u001b[0mbuiltins\u001b[0m\u001b[0;34m.\u001b[0m\u001b[0mopen\u001b[0m\u001b[0;34m(\u001b[0m\u001b[0mfilename\u001b[0m\u001b[0;34m,\u001b[0m \u001b[0;34m\"rb\"\u001b[0m\u001b[0;34m)\u001b[0m\u001b[0;34m\u001b[0m\u001b[0;34m\u001b[0m\u001b[0m\n\u001b[0m\u001b[1;32m   3470\u001b[0m         \u001b[0mexclusive_fp\u001b[0m \u001b[0;34m=\u001b[0m \u001b[0;32mTrue\u001b[0m\u001b[0;34m\u001b[0m\u001b[0;34m\u001b[0m\u001b[0m\n\u001b[1;32m   3471\u001b[0m     \u001b[0;32melse\u001b[0m\u001b[0;34m:\u001b[0m\u001b[0;34m\u001b[0m\u001b[0;34m\u001b[0m\u001b[0m\n",
            "\u001b[0;31mFileNotFoundError\u001b[0m: [Errno 2] No such file or directory: '/content/SAR_ADC/script/..\\\\pic\\\\nssar1o1c.png'"
          ]
        },
        {
          "output_type": "display_data",
          "data": {
            "text/plain": [
              "<Figure size 1800x500 with 1 Axes>"
            ],
            "image/png": "[encoded data removed]"
          },
          "metadata": {}
        }
      ],
      "source": [
        "# @title Run Simulator\n",
        "pr_loaded = load_assembler_xlsx(os.path.join(\"../config\",pr['conf_name']))\n",
        "\n",
        "# update pr with pr_loaded\n",
        "pr.update(pr_loaded)\n",
        "# if \"T_assembler\" in pr:\n",
        "#     print(\"Loaded successfully!\\n\")\n",
        "cfg_info = pd.DataFrame(pr[\"T_assembler\"])\n",
        "# cfg_infon=pd.DataFrame(pr[\"cfg_table\"])\n",
        "display_dataframe(cfg_info,pr[\"conf_name\"])\n",
        "\n",
        "# Convertion begins\n",
        "da = RISCA_core(mdl, pr, signal_source(pr, mdl))\n",
        "# Analyse the result\n",
        "test = Analyser(da, pr, mdl)\n",
        "test.mode_analyser()"
      ]
    },
    {
      "cell_type": "code",
      "source": [],
      "metadata": {
        "id": "Maw4fcPD1OsM"
      },
      "execution_count": null,
      "outputs": []
    }
  ],
  "metadata": {
    "kernelspec": {
      "display_name": "sar_adc",
      "language": "python",
      "name": "python3"
    },
    "language_info": {
      "codemirror_mode": {
        "name": "ipython",
        "version": 3
      },
      "file_extension": ".py",
      "mimetype": "text/x-python",
      "name": "python",
      "nbconvert_exporter": "python",
      "pygments_lexer": "ipython3",
      "version": "3.11.10"
    },
    "colab": {
      "provenance": [],
      "include_colab_link": true
    }
  },
  "nbformat": 4,
  "nbformat_minor": 0
}