{
  "cells": [
    {
      "cell_type": "markdown",
      "metadata": {
        "id": "view-in-github",
        "colab_type": "text"
      },
      "source": [
        "<a href=\"https://colab.research.google.com/github/lin-k23/RISCA/blob/main/simulator1.ipynb\" target=\"_parent\"><img src=\"https://colab.research.google.com/assets/colab-badge.svg\" alt=\"Open In Colab\"/></a>"
      ]
    },
    {
      "cell_type": "markdown",
      "metadata": {
        "id": "l1xLtO5Uy0Ng"
      },
      "source": [
        "<a href=\"https://colab.research.google.com/github/lin-k23/RISCA/blob/main/simulator1.ipynb\" target=\"_parent\"><img src=\"https://colab.research.google.com/assets/colab-badge.svg\" alt=\"Open In Colab\"/></a>"
      ]
    },
    {
      "cell_type": "markdown",
      "metadata": {
        "id": "Rlj_FlzJy0Nh"
      },
      "source": [
        "# Introduction\n",
        "\n",
        "RISCA"
      ]
    },
    {
      "cell_type": "code",
      "source": [
        "!rm -rf /content/SAR_ADC"
      ],
      "metadata": {
        "id": "V-khiDgg4uWB"
      },
      "execution_count": 20,
      "outputs": []
    },
    {
      "cell_type": "markdown",
      "metadata": {
        "id": "BhnjnnG3y0Nh"
      },
      "source": [
        "## Install Dependencies"
      ]
    },
    {
      "cell_type": "code",
      "execution_count": 1,
      "metadata": {
        "colab": {
          "base_uri": "https://localhost:8080/"
        },
        "id": "9crdhtFDy0Nh",
        "outputId": "792d3204-1bc0-4f16-a182-ad0deb9ea9ba"
      },
      "outputs": [
        {
          "output_type": "stream",
          "name": "stdout",
          "text": [
            "Requirement already satisfied: numpy in /usr/local/lib/python3.10/dist-packages (1.26.4)\n",
            "Requirement already satisfied: matplotlib in /usr/local/lib/python3.10/dist-packages (3.8.0)\n",
            "Requirement already satisfied: seaborn in /usr/local/lib/python3.10/dist-packages (0.13.2)\n",
            "Requirement already satisfied: pandas in /usr/local/lib/python3.10/dist-packages (2.2.2)\n",
            "Requirement already satisfied: contourpy>=1.0.1 in /usr/local/lib/python3.10/dist-packages (from matplotlib) (1.3.1)\n",
            "Requirement already satisfied: cycler>=0.10 in /usr/local/lib/python3.10/dist-packages (from matplotlib) (0.12.1)\n",
            "Requirement already satisfied: fonttools>=4.22.0 in /usr/local/lib/python3.10/dist-packages (from matplotlib) (4.55.0)\n",
            "Requirement already satisfied: kiwisolver>=1.0.1 in /usr/local/lib/python3.10/dist-packages (from matplotlib) (1.4.7)\n",
            "Requirement already satisfied: packaging>=20.0 in /usr/local/lib/python3.10/dist-packages (from matplotlib) (24.2)\n",
            "Requirement already satisfied: pillow>=6.2.0 in /usr/local/lib/python3.10/dist-packages (from matplotlib) (11.0.0)\n",
            "Requirement already satisfied: pyparsing>=2.3.1 in /usr/local/lib/python3.10/dist-packages (from matplotlib) (3.2.0)\n",
            "Requirement already satisfied: python-dateutil>=2.7 in /usr/local/lib/python3.10/dist-packages (from matplotlib) (2.8.2)\n",
            "Requirement already satisfied: pytz>=2020.1 in /usr/local/lib/python3.10/dist-packages (from pandas) (2024.2)\n",
            "Requirement already satisfied: tzdata>=2022.7 in /usr/local/lib/python3.10/dist-packages (from pandas) (2024.2)\n",
            "Requirement already satisfied: six>=1.5 in /usr/local/lib/python3.10/dist-packages (from python-dateutil>=2.7->matplotlib) (1.16.0)\n",
            "Cloning into 'SAR_ADC'...\n",
            "remote: Enumerating objects: 247, done.\u001b[K\n",
            "remote: Counting objects: 100% (247/247), done.\u001b[K\n",
            "remote: Compressing objects: 100% (162/162), done.\u001b[K\n",
            "remote: Total 247 (delta 129), reused 200 (delta 82), pack-reused 0 (from 0)\u001b[K\n",
            "Receiving objects: 100% (247/247), 1.71 MiB | 6.56 MiB/s, done.\n",
            "Resolving deltas: 100% (129/129), done.\n",
            "/content/SAR_ADC/script\n"
          ]
        }
      ],
      "source": [
        "%pip install numpy matplotlib seaborn pandas\n",
        "!git clone https://github.com/lin-k23/SAR_ADC.git\n",
        "%cd SAR_ADC/script/\n",
        "from preset_mdl import preset_mdl\n",
        "from preset_pr import preset_pr\n",
        "from signal_source import signal_source\n",
        "from RISCA_core import RISCA_core\n",
        "from analyser.analyser import AnalyserSar\n",
        "from util.load_assembler_xlsx import load_assembler_xlsx\n",
        "import pandas as pd\n",
        "import os"
      ]
    },
    {
      "cell_type": "markdown",
      "metadata": {
        "id": "gJBJfTRFy0Nh"
      },
      "source": [
        "## Initialize Configuration Information"
      ]
    },
    {
      "cell_type": "code",
      "execution_count": 7,
      "metadata": {
        "colab": {
          "base_uri": "https://localhost:8080/",
          "height": 251
        },
        "id": "aA3Zq9nuy0Ni",
        "outputId": "9075004e-9b75-4a36-c000-9ad004f480ea"
      },
      "outputs": [
        {
          "output_type": "stream",
          "name": "stdout",
          "text": [
            "sar/tisar/pipesar2s/nssar1o1c/nssar1o1ccp\n",
            "sar\n",
            "../config/sar\n",
            "Loading file: ../config/sar/timing_table.xlsx\n",
            "[util.load_assembler_xlsx] TI parameter loaded: pr[\"TI\"]= 1\n",
            "Loaded Excel configuration:\n",
            "\n"
          ]
        },
        {
          "output_type": "execute_result",
          "data": {
            "text/plain": [
              "<pandas.io.formats.style.Styler at 0x79907ede1570>"
            ],
            "text/html": [
              "<style type=\"text/css\">\n",
              "#T_9a835_row0_col0, #T_9a835_row0_col1, #T_9a835_row0_col2 {\n",
              "  text-align: center;\n",
              "}\n",
              "</style>\n",
              "<table id=\"T_9a835\" class=\"dataframe\">\n",
              "  <caption>Configuration Information for sar</caption>\n",
              "  <thead>\n",
              "    <tr>\n",
              "      <th class=\"blank level0\" >&nbsp;</th>\n",
              "      <th id=\"T_9a835_level0_col0\" class=\"col_heading level0 col0\" >frame1</th>\n",
              "      <th id=\"T_9a835_level0_col1\" class=\"col_heading level0 col1\" >frame2</th>\n",
              "      <th id=\"T_9a835_level0_col2\" class=\"col_heading level0 col2\" >frame3</th>\n",
              "    </tr>\n",
              "    <tr>\n",
              "      <th class=\"index_name level0\" >Item</th>\n",
              "      <th class=\"blank col0\" >&nbsp;</th>\n",
              "      <th class=\"blank col1\" >&nbsp;</th>\n",
              "      <th class=\"blank col2\" >&nbsp;</th>\n",
              "    </tr>\n",
              "  </thead>\n",
              "  <tbody>\n",
              "    <tr>\n",
              "      <th id=\"T_9a835_level0_row0\" class=\"row_heading level0 row0\" >CB1</th>\n",
              "      <td id=\"T_9a835_row0_col0\" class=\"data row0 col0\" >OUT RST SAM1</td>\n",
              "      <td id=\"T_9a835_row0_col1\" class=\"data row0 col1\" >MSB</td>\n",
              "      <td id=\"T_9a835_row0_col2\" class=\"data row0 col2\" >LSB</td>\n",
              "    </tr>\n",
              "  </tbody>\n",
              "</table>\n"
            ]
          },
          "metadata": {},
          "execution_count": 7
        }
      ],
      "source": [
        "mdl = preset_mdl()\n",
        "pr = preset_pr()\n",
        "pr['conf_name'] = input(\"sar/tisar/pipesar2s/nssar1o1c/nssar1o1ccp\\n\")\n",
        "config_file_path = os.path.join(\"../config\",pr['conf_name'])\n",
        "print(config_file_path)\n",
        "pr_loaded = load_assembler_xlsx(config_file_path)\n",
        "# update pr with pr_loaded\n",
        "pr.update(pr_loaded)\n",
        "if \"T_assembler\" in pr:\n",
        "    print(\"Loaded Excel configuration:\\n\")\n",
        "cfg_info = pd.DataFrame(pr[\"T_assembler\"])\n",
        "styled_df = cfg_info.style\\\n",
        "            .set_table_attributes('class=\"dataframe table table-striped\"')\\\n",
        "            .set_properties(**{'text-align': 'center'})\\\n",
        "            .set_caption(f'Configuration Information for {pr[\"conf_name\"]}')\n",
        "styled_df"
      ]
    },
    {
      "cell_type": "markdown",
      "metadata": {
        "id": "_3-TH78Dy0Ni"
      },
      "source": [
        "## Input signal & Analysis conversion results"
      ]
    },
    {
      "cell_type": "code",
      "execution_count": null,
      "metadata": {
        "id": "oYqavNoqy0Ni"
      },
      "outputs": [],
      "source": [
        "# 定义输入信号峰值\n",
        "v_in_peak = [0.85, 0]\n",
        "# 调用 signal_source 函数\n",
        "v_in_p, v_in_n = signal_source(pr, mdl, v_in_peak)\n",
        "# Instantiate the device under test\n",
        "da = RISCA_core(mdl, pr, v_in_p, v_in_n)"
      ]
    },
    {
      "cell_type": "markdown",
      "metadata": {
        "id": "InnSKXaEy0Ni"
      },
      "source": [
        "## Run Analysis"
      ]
    },
    {
      "cell_type": "code",
      "execution_count": 2,
      "metadata": {
        "colab": {
          "base_uri": "https://localhost:8080/",
          "height": 193
        },
        "id": "A4Q8BoNay0Ni",
        "outputId": "53453c04-fa6a-4f45-909f-6473df66556f"
      },
      "outputs": [
        {
          "output_type": "error",
          "ename": "NameError",
          "evalue": "name 'da' is not defined",
          "traceback": [
            "\u001b[0;31m---------------------------------------------------------------------------\u001b[0m",
            "\u001b[0;31mNameError\u001b[0m                                 Traceback (most recent call last)",
            "\u001b[0;32m<ipython-input-2-681eeb4b9d2d>\u001b[0m in \u001b[0;36m<cell line: 3>\u001b[0;34m()\u001b[0m\n\u001b[1;32m      1\u001b[0m \u001b[0;32mimport\u001b[0m \u001b[0mmatplotlib\u001b[0m\u001b[0;34m.\u001b[0m\u001b[0mpyplot\u001b[0m \u001b[0;32mas\u001b[0m \u001b[0mplt\u001b[0m\u001b[0;34m\u001b[0m\u001b[0;34m\u001b[0m\u001b[0m\n\u001b[1;32m      2\u001b[0m \u001b[0mplt\u001b[0m\u001b[0;34m.\u001b[0m\u001b[0mrcParams\u001b[0m\u001b[0;34m[\u001b[0m\u001b[0;34m'font.family'\u001b[0m\u001b[0;34m]\u001b[0m \u001b[0;34m=\u001b[0m \u001b[0;34m'Arial'\u001b[0m\u001b[0;34m\u001b[0m\u001b[0;34m\u001b[0m\u001b[0m\n\u001b[0;32m----> 3\u001b[0;31m \u001b[0mtest\u001b[0m \u001b[0;34m=\u001b[0m \u001b[0mAnalyserSar\u001b[0m\u001b[0;34m(\u001b[0m\u001b[0mda\u001b[0m\u001b[0;34m,\u001b[0m \u001b[0mpr\u001b[0m\u001b[0;34m)\u001b[0m\u001b[0;34m\u001b[0m\u001b[0;34m\u001b[0m\u001b[0m\n\u001b[0m\u001b[1;32m      4\u001b[0m \u001b[0mtest\u001b[0m\u001b[0;34m.\u001b[0m\u001b[0mno_calibration\u001b[0m\u001b[0;34m(\u001b[0m\u001b[0;34m)\u001b[0m\u001b[0;34m\u001b[0m\u001b[0;34m\u001b[0m\u001b[0m\n",
            "\u001b[0;31mNameError\u001b[0m: name 'da' is not defined"
          ]
        }
      ],
      "source": [
        "import matplotlib.pyplot as plt\n",
        "plt.rcParams['font.family'] = 'Arial'\n",
        "test = AnalyserSar(da, pr)\n",
        "test.no_calibration()"
      ]
    },
    {
      "cell_type": "code",
      "source": [],
      "metadata": {
        "id": "zfifEXzo5Kt7"
      },
      "execution_count": null,
      "outputs": []
    }
  ],
  "metadata": {
    "kernelspec": {
      "display_name": "sar_adc",
      "language": "python",
      "name": "python3"
    },
    "language_info": {
      "codemirror_mode": {
        "name": "ipython",
        "version": 3
      },
      "file_extension": ".py",
      "mimetype": "text/x-python",
      "name": "python",
      "nbconvert_exporter": "python",
      "pygments_lexer": "ipython3",
      "version": "3.11.10"
    },
    "toc": {
      "base_numbering": 1,
      "nav_menu": {},
      "number_sections": true,
      "sideBar": true,
      "skip_h1_title": false,
      "title_cell": "Table of Contents",
      "title_sidebar": "Contents",
      "toc_cell": false,
      "toc_position": {},
      "toc_section_display": true,
      "toc_window_display": false
    },
    "colab": {
      "provenance": [],
      "include_colab_link": true
    }
  },
  "nbformat": 4,
  "nbformat_minor": 0
}