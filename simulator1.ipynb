{
  "cells": [
    {
      "cell_type": "markdown",
      "metadata": {
        "id": "l1xLtO5Uy0Ng"
      },
      "source": [
        "<a href=\"https://colab.research.google.com/github/lin-k23/RISCA/blob/main/simulator1.ipynb\" target=\"_parent\"><img src=\"https://colab.research.google.com/assets/colab-badge.svg\" alt=\"Open In Colab\"/></a>"
      ]
    },
    {
      "cell_type": "markdown",
      "metadata": {
        "id": "Rlj_FlzJy0Nh"
      },
      "source": [
        "# Introduction\n",
        "\n",
        "RISCA"
      ]
    },
    {
      "cell_type": "code",
      "source": [
        "!rm -rf /content/SAR_ADC"
      ],
      "metadata": {
        "id": "V-khiDgg4uWB"
      },
      "execution_count": null,
      "outputs": []
    },
    {
      "cell_type": "code",
      "source": [
        "!apt-get -qq update\n",
        "!apt-get -qq install ttf-mscorefonts-installer"
      ],
      "metadata": {
        "id": "xdoAZLHYFRKR",
        "outputId": "e20d1b0c-a5c3-4a1d-f171-93e7be7c72a8",
        "colab": {
          "base_uri": "https://localhost:8080/"
        }
      },
      "execution_count": null,
      "outputs": [
        {
          "output_type": "stream",
          "name": "stdout",
          "text": [
            "W: Skipping acquire of configured file 'main/source/Sources' as repository 'https://r2u.stat.illinois.edu/ubuntu jammy InRelease' does not seem to provide it (sources.list entry misspelt?)\n",
            "Preconfiguring packages ...\n",
            "Selecting previously unselected package libmspack0:amd64.\n",
            "(Reading database ... 123630 files and directories currently installed.)\n",
            "Preparing to unpack .../00-libmspack0_0.10.1-2build2_amd64.deb ...\n",
            "Unpacking libmspack0:amd64 (0.10.1-2build2) ...\n",
            "Selecting previously unselected package cabextract.\n",
            "Preparing to unpack .../01-cabextract_1.9-3_amd64.deb ...\n",
            "Unpacking cabextract (1.9-3) ...\n",
            "Selecting previously unselected package libfontenc1:amd64.\n",
            "Preparing to unpack .../02-libfontenc1_1%3a1.1.4-1build3_amd64.deb ...\n",
            "Unpacking libfontenc1:amd64 (1:1.1.4-1build3) ...\n",
            "Selecting previously unselected package xfonts-encodings.\n",
            "Preparing to unpack .../03-xfonts-encodings_1%3a1.0.5-0ubuntu2_all.deb ...\n",
            "Unpacking xfonts-encodings (1:1.0.5-0ubuntu2) ...\n",
            "Selecting previously unselected package xfonts-utils.\n",
            "Preparing to unpack .../04-xfonts-utils_1%3a7.7+6build2_amd64.deb ...\n",
            "Unpacking xfonts-utils (1:7.7+6build2) ...\n",
            "Selecting previously unselected package python3-chardet.\n",
            "Preparing to unpack .../05-python3-chardet_4.0.0-1_all.deb ...\n",
            "Unpacking python3-chardet (4.0.0-1) ...\n",
            "Selecting previously unselected package zstd.\n",
            "Preparing to unpack .../06-zstd_1.4.8+dfsg-3build1_amd64.deb ...\n",
            "Unpacking zstd (1.4.8+dfsg-3build1) ...\n",
            "Selecting previously unselected package python3-debian.\n",
            "Preparing to unpack .../07-python3-debian_0.1.43ubuntu1.1_all.deb ...\n",
            "Unpacking python3-debian (0.1.43ubuntu1.1) ...\n",
            "Selecting previously unselected package python3-debconf.\n",
            "Preparing to unpack .../08-python3-debconf_1.5.79ubuntu1_all.deb ...\n",
            "Unpacking python3-debconf (1.5.79ubuntu1) ...\n",
            "Selecting previously unselected package python3-distro-info.\n",
            "Preparing to unpack .../09-python3-distro-info_1.1ubuntu0.2_all.deb ...\n",
            "Unpacking python3-distro-info (1.1ubuntu0.2) ...\n",
            "Selecting previously unselected package python3-yaml.\n",
            "Preparing to unpack .../10-python3-yaml_5.4.1-1ubuntu1_amd64.deb ...\n",
            "Unpacking python3-yaml (5.4.1-1ubuntu1) ...\n",
            "Selecting previously unselected package python3-distupgrade.\n",
            "Preparing to unpack .../11-python3-distupgrade_1%3a22.04.20_all.deb ...\n",
            "Unpacking python3-distupgrade (1:22.04.20) ...\n",
            "Selecting previously unselected package python3-update-manager.\n",
            "Preparing to unpack .../12-python3-update-manager_1%3a22.04.21_all.deb ...\n",
            "Unpacking python3-update-manager (1:22.04.21) ...\n",
            "Selecting previously unselected package ubuntu-release-upgrader-core.\n",
            "Preparing to unpack .../13-ubuntu-release-upgrader-core_1%3a22.04.20_all.deb ...\n",
            "Unpacking ubuntu-release-upgrader-core (1:22.04.20) ...\n",
            "Selecting previously unselected package distro-info.\n",
            "Preparing to unpack .../14-distro-info_1.1ubuntu0.2_amd64.deb ...\n",
            "Unpacking distro-info (1.1ubuntu0.2) ...\n",
            "Selecting previously unselected package ubuntu-pro-client.\n",
            "Preparing to unpack .../15-ubuntu-pro-client_34~22.04_amd64.deb ...\n",
            "Unpacking ubuntu-pro-client (34~22.04) ...\n",
            "Selecting previously unselected package ubuntu-advantage-tools.\n",
            "Preparing to unpack .../16-ubuntu-advantage-tools_34~22.04_all.deb ...\n",
            "Unpacking ubuntu-advantage-tools (34~22.04) ...\n",
            "Selecting previously unselected package update-manager-core.\n",
            "Preparing to unpack .../17-update-manager-core_1%3a22.04.21_all.deb ...\n",
            "Unpacking update-manager-core (1:22.04.21) ...\n",
            "Selecting previously unselected package update-notifier-common.\n",
            "Preparing to unpack .../18-update-notifier-common_3.192.54.8_all.deb ...\n",
            "Unpacking update-notifier-common (3.192.54.8) ...\n",
            "Selecting previously unselected package ttf-mscorefonts-installer.\n",
            "Preparing to unpack .../19-ttf-mscorefonts-installer_3.8ubuntu2_all.deb ...\n",
            "\n",
            "mscorefonts-eula license could not be presented\n",
            "try 'dpkg-reconfigure debconf' to select a frontend other than noninteractive\n",
            "\n",
            "Unpacking ttf-mscorefonts-installer (3.8ubuntu2) ...\n",
            "Selecting previously unselected package ubuntu-pro-client-l10n.\n",
            "Preparing to unpack .../20-ubuntu-pro-client-l10n_34~22.04_amd64.deb ...\n",
            "Unpacking ubuntu-pro-client-l10n (34~22.04) ...\n",
            "Setting up distro-info (1.1ubuntu0.2) ...\n",
            "Setting up python3-debconf (1.5.79ubuntu1) ...\n",
            "Setting up libmspack0:amd64 (0.10.1-2build2) ...\n",
            "Setting up python3-yaml (5.4.1-1ubuntu1) ...\n",
            "Setting up libfontenc1:amd64 (1:1.1.4-1build3) ...\n",
            "Setting up python3-chardet (4.0.0-1) ...\n",
            "Setting up xfonts-encodings (1:1.0.5-0ubuntu2) ...\n",
            "Setting up python3-distro-info (1.1ubuntu0.2) ...\n",
            "Setting up ubuntu-pro-client (34~22.04) ...\n",
            "Created symlink /etc/systemd/system/multi-user.target.wants/ua-reboot-cmds.service → /lib/systemd/system/ua-reboot-cmds.service.\n",
            "Created symlink /etc/systemd/system/timers.target.wants/ua-timer.timer → /lib/systemd/system/ua-timer.timer.\n",
            "Created symlink /etc/systemd/system/multi-user.target.wants/ubuntu-advantage.service → /lib/systemd/system/ubuntu-advantage.service.\n",
            "Setting up zstd (1.4.8+dfsg-3build1) ...\n",
            "Setting up ubuntu-pro-client-l10n (34~22.04) ...\n",
            "Setting up cabextract (1.9-3) ...\n",
            "Setting up xfonts-utils (1:7.7+6build2) ...\n",
            "Setting up python3-debian (0.1.43ubuntu1.1) ...\n",
            "Setting up ubuntu-advantage-tools (34~22.04) ...\n",
            "Setting up python3-distupgrade (1:22.04.20) ...\n",
            "Setting up ubuntu-release-upgrader-core (1:22.04.20) ...\n",
            "Setting up python3-update-manager (1:22.04.21) ...\n",
            "Setting up update-manager-core (1:22.04.21) ...\n",
            "Setting up update-notifier-common (3.192.54.8) ...\n",
            "Created symlink /etc/systemd/system/timers.target.wants/update-notifier-download.timer → /lib/systemd/system/update-notifier-download.timer.\n",
            "Created symlink /etc/systemd/system/timers.target.wants/update-notifier-motd.timer → /lib/systemd/system/update-notifier-motd.timer.\n",
            "Setting up ttf-mscorefonts-installer (3.8ubuntu2) ...\n",
            "user did not accept the mscorefonts-eula license\n",
            "Processing triggers for fontconfig (2.13.1-4.2ubuntu5) ...\n",
            "Processing triggers for libc-bin (2.35-0ubuntu3.4) ...\n",
            "/sbin/ldconfig.real: /usr/local/lib/libur_loader.so.0 is not a symbolic link\n",
            "\n",
            "/sbin/ldconfig.real: /usr/local/lib/libtcm_debug.so.1 is not a symbolic link\n",
            "\n",
            "/sbin/ldconfig.real: /usr/local/lib/libtbbbind_2_5.so.3 is not a symbolic link\n",
            "\n",
            "/sbin/ldconfig.real: /usr/local/lib/libtbbmalloc_proxy.so.2 is not a symbolic link\n",
            "\n",
            "/sbin/ldconfig.real: /usr/local/lib/libur_adapter_opencl.so.0 is not a symbolic link\n",
            "\n",
            "/sbin/ldconfig.real: /usr/local/lib/libtbbbind_2_0.so.3 is not a symbolic link\n",
            "\n",
            "/sbin/ldconfig.real: /usr/local/lib/libtbbbind.so.3 is not a symbolic link\n",
            "\n",
            "/sbin/ldconfig.real: /usr/local/lib/libtbb.so.12 is not a symbolic link\n",
            "\n",
            "/sbin/ldconfig.real: /usr/local/lib/libtcm.so.1 is not a symbolic link\n",
            "\n",
            "/sbin/ldconfig.real: /usr/local/lib/libur_adapter_level_zero.so.0 is not a symbolic link\n",
            "\n",
            "/sbin/ldconfig.real: /usr/local/lib/libtbbmalloc.so.2 is not a symbolic link\n",
            "\n",
            "/sbin/ldconfig.real: /usr/local/lib/libhwloc.so.15 is not a symbolic link\n",
            "\n",
            "/sbin/ldconfig.real: /usr/local/lib/libumf.so.0 is not a symbolic link\n",
            "\n",
            "Processing triggers for man-db (2.10.2-1) ...\n"
          ]
        }
      ]
    },
    {
      "cell_type": "markdown",
      "metadata": {
        "id": "BhnjnnG3y0Nh"
      },
      "source": [
        "## Install Dependencies"
      ]
    },
    {
      "cell_type": "code",
      "execution_count": 1,
      "metadata": {
        "colab": {
          "base_uri": "https://localhost:8080/"
        },
        "id": "9crdhtFDy0Nh",
        "outputId": "d261abfb-b96e-4a5d-ad5a-0fec69891789"
      },
      "outputs": [
        {
          "output_type": "stream",
          "name": "stdout",
          "text": [
            "Requirement already satisfied: numpy in /usr/local/lib/python3.10/dist-packages (1.26.4)\n",
            "Requirement already satisfied: matplotlib in /usr/local/lib/python3.10/dist-packages (3.8.0)\n",
            "Requirement already satisfied: pandas in /usr/local/lib/python3.10/dist-packages (2.2.2)\n",
            "Requirement already satisfied: contourpy>=1.0.1 in /usr/local/lib/python3.10/dist-packages (from matplotlib) (1.3.1)\n",
            "Requirement already satisfied: cycler>=0.10 in /usr/local/lib/python3.10/dist-packages (from matplotlib) (0.12.1)\n",
            "Requirement already satisfied: fonttools>=4.22.0 in /usr/local/lib/python3.10/dist-packages (from matplotlib) (4.55.0)\n",
            "Requirement already satisfied: kiwisolver>=1.0.1 in /usr/local/lib/python3.10/dist-packages (from matplotlib) (1.4.7)\n",
            "Requirement already satisfied: packaging>=20.0 in /usr/local/lib/python3.10/dist-packages (from matplotlib) (24.2)\n",
            "Requirement already satisfied: pillow>=6.2.0 in /usr/local/lib/python3.10/dist-packages (from matplotlib) (11.0.0)\n",
            "Requirement already satisfied: pyparsing>=2.3.1 in /usr/local/lib/python3.10/dist-packages (from matplotlib) (3.2.0)\n",
            "Requirement already satisfied: python-dateutil>=2.7 in /usr/local/lib/python3.10/dist-packages (from matplotlib) (2.8.2)\n",
            "Requirement already satisfied: pytz>=2020.1 in /usr/local/lib/python3.10/dist-packages (from pandas) (2024.2)\n",
            "Requirement already satisfied: tzdata>=2022.7 in /usr/local/lib/python3.10/dist-packages (from pandas) (2024.2)\n",
            "Requirement already satisfied: six>=1.5 in /usr/local/lib/python3.10/dist-packages (from python-dateutil>=2.7->matplotlib) (1.16.0)\n",
            "Cloning into 'SAR_ADC'...\n",
            "remote: Enumerating objects: 333, done.\u001b[K\n",
            "remote: Counting objects: 100% (333/333), done.\u001b[K\n",
            "remote: Compressing objects: 100% (214/214), done.\u001b[K\n",
            "remote: Total 333 (delta 191), reused 258 (delta 116), pack-reused 0 (from 0)\u001b[K\n",
            "Receiving objects: 100% (333/333), 1.98 MiB | 5.47 MiB/s, done.\n",
            "Resolving deltas: 100% (191/191), done.\n",
            "/content/SAR_ADC/script\n"
          ]
        }
      ],
      "source": [
        "%pip install numpy matplotlib pandas\n",
        "!git clone https://github.com/lin-k23/SAR_ADC.git\n",
        "import pandas as pd\n",
        "import os\n",
        "import sys\n",
        "sys.path.append('/content/SAR_ADC')\n",
        "%cd SAR_ADC/script/\n",
        "from preset_mdl import preset_mdl\n",
        "from preset_pr import preset_pr\n",
        "from signal_source import signal_source\n",
        "from RISCA_core import RISCA_core\n",
        "from analyser.analyser_new import Analyser\n",
        "from util.load_assembler_xlsx import load_assembler_xlsx\n"
      ]
    },
    {
      "cell_type": "markdown",
      "metadata": {
        "id": "gJBJfTRFy0Nh"
      },
      "source": [
        "## Initialize Configuration Information"
      ]
    },
    {
      "cell_type": "code",
      "execution_count": 2,
      "metadata": {
        "colab": {
          "base_uri": "https://localhost:8080/",
          "height": 365
        },
        "id": "aA3Zq9nuy0Ni",
        "outputId": "63cbb00e-eee4-4fee-a8e9-f1a4d4be9f90"
      },
      "outputs": [
        {
          "output_type": "stream",
          "name": "stdout",
          "text": [
            "sar/tisar/pipesar2s/nssar1o1c/nssar1o1ccp\n",
            "tisar\n",
            "../config/tisar\n",
            "Loading file: ../config/tisar/timing_table.xlsx\n",
            "[util.load_assembler_xlsx] parameter TI loaded: pr[TI]= 3.0\n",
            "[util.load_assembler_xlsx] parameter F_in_center_1 loaded: pr[F_in_center_1]= 99000000.0\n",
            "[util.load_assembler_xlsx] parameter v_in_peak loaded: pr[v_in_peak]= 0.85\n",
            "[util.load_assembler_xlsx] parameter F_clk loaded: pr[F_clk]= 800000000.0\n",
            "Loaded Excel configuration:\n",
            "\n"
          ]
        },
        {
          "output_type": "execute_result",
          "data": {
            "text/plain": [
              "<pandas.io.formats.style.Styler at 0x7f74eb5019c0>"
            ],
            "text/html": [
              "<style type=\"text/css\">\n",
              "#T_36f6a_row0_col0, #T_36f6a_row0_col1, #T_36f6a_row0_col2, #T_36f6a_row1_col0, #T_36f6a_row1_col1, #T_36f6a_row1_col2, #T_36f6a_row2_col0, #T_36f6a_row2_col1, #T_36f6a_row2_col2 {\n",
              "  text-align: center;\n",
              "}\n",
              "</style>\n",
              "<table id=\"T_36f6a\" class=\"dataframe\">\n",
              "  <caption>Configuration Information for tisar</caption>\n",
              "  <thead>\n",
              "    <tr>\n",
              "      <th class=\"blank level0\" >&nbsp;</th>\n",
              "      <th id=\"T_36f6a_level0_col0\" class=\"col_heading level0 col0\" >frame1</th>\n",
              "      <th id=\"T_36f6a_level0_col1\" class=\"col_heading level0 col1\" >frame2</th>\n",
              "      <th id=\"T_36f6a_level0_col2\" class=\"col_heading level0 col2\" >frame3</th>\n",
              "    </tr>\n",
              "    <tr>\n",
              "      <th class=\"index_name level0\" >Item</th>\n",
              "      <th class=\"blank col0\" >&nbsp;</th>\n",
              "      <th class=\"blank col1\" >&nbsp;</th>\n",
              "      <th class=\"blank col2\" >&nbsp;</th>\n",
              "    </tr>\n",
              "  </thead>\n",
              "  <tbody>\n",
              "    <tr>\n",
              "      <th id=\"T_36f6a_level0_row0\" class=\"row_heading level0 row0\" >CB1</th>\n",
              "      <td id=\"T_36f6a_row0_col0\" class=\"data row0 col0\" >OUT RST SAM1</td>\n",
              "      <td id=\"T_36f6a_row0_col1\" class=\"data row0 col1\" >MSB</td>\n",
              "      <td id=\"T_36f6a_row0_col2\" class=\"data row0 col2\" >LSB</td>\n",
              "    </tr>\n",
              "    <tr>\n",
              "      <th id=\"T_36f6a_level0_row1\" class=\"row_heading level0 row1\" >CB2</th>\n",
              "      <td id=\"T_36f6a_row1_col0\" class=\"data row1 col0\" >LSB</td>\n",
              "      <td id=\"T_36f6a_row1_col1\" class=\"data row1 col1\" >OUT RST SAM1</td>\n",
              "      <td id=\"T_36f6a_row1_col2\" class=\"data row1 col2\" >MSB</td>\n",
              "    </tr>\n",
              "    <tr>\n",
              "      <th id=\"T_36f6a_level0_row2\" class=\"row_heading level0 row2\" >CB3</th>\n",
              "      <td id=\"T_36f6a_row2_col0\" class=\"data row2 col0\" >MSB</td>\n",
              "      <td id=\"T_36f6a_row2_col1\" class=\"data row2 col1\" >LSB</td>\n",
              "      <td id=\"T_36f6a_row2_col2\" class=\"data row2 col2\" >OUT RST SAM1</td>\n",
              "    </tr>\n",
              "  </tbody>\n",
              "</table>\n"
            ]
          },
          "metadata": {},
          "execution_count": 2
        }
      ],
      "source": [
        "mdl = preset_mdl()\n",
        "pr = preset_pr()\n",
        "pr['conf_name'] = input(\"sar/tisar/pipesar2s/nssar1o1c/nssar1o1ccp\\n\")\n",
        "config_file_path = os.path.join(\"../config\",pr['conf_name'])\n",
        "print(config_file_path)\n",
        "pr_loaded = load_assembler_xlsx(config_file_path)\n",
        "pr.update(pr_loaded)\n",
        "if \"T_assembler\" in pr:\n",
        "    print(\"Loaded Excel configuration:\\n\")\n",
        "if pr[\"conf_name\"] == \"tisar\":\n",
        "    mdl[\"n_wgt_sar1\"] = [256, 128, 64, 32, 16]\n",
        "    mdl[\"n_wgt_sar2\"] = [16, 8, 4, 2, 1, 0.5]\n",
        "\n",
        "cfg_info = pd.DataFrame(pr[\"T_assembler\"])\n",
        "styled_df = cfg_info.style\\\n",
        "            .set_table_attributes('class=\"dataframe table table-striped\"')\\\n",
        "            .set_properties(**{'text-align': 'center'})\\\n",
        "            .set_caption(f'Configuration Information for {pr[\"conf_name\"]}')\n",
        "styled_df"
      ]
    },
    {
      "cell_type": "markdown",
      "metadata": {
        "id": "_3-TH78Dy0Ni"
      },
      "source": [
        "## Input signal & Analysis conversion results"
      ]
    },
    {
      "cell_type": "code",
      "execution_count": 3,
      "metadata": {
        "id": "oYqavNoqy0Ni"
      },
      "outputs": [],
      "source": [
        "# 定义输入信号峰值\n",
        "v_in_peak = [pr[\"v_in_peak\"], 0]\n",
        "# 调用 signal_source 函数\n",
        "v_in_p, v_in_n = signal_source(pr, mdl, v_in_peak)\n",
        "# Instantiate the device under test\n",
        "da = RISCA_core(mdl, pr, v_in_p, v_in_n)"
      ]
    },
    {
      "cell_type": "markdown",
      "metadata": {
        "id": "InnSKXaEy0Ni"
      },
      "source": [
        "## Run Analysis"
      ]
    },
    {
      "cell_type": "code",
      "execution_count": 4,
      "metadata": {
        "colab": {
          "base_uri": "https://localhost:8080/",
          "height": 472
        },
        "id": "A4Q8BoNay0Ni",
        "outputId": "d95ca8eb-3d3c-4494-9c4a-a205c0f18016"
      },
      "outputs": [
        {
          "output_type": "display_data",
          "data": {
            "text/plain": [
              "<Figure size 640x480 with 1 Axes>"
            ],
            "image/png": "[encoded data removed]"
          },
          "metadata": {}
        }
      ],
      "source": [
        "test = Analyser(da, pr)\n",
        "test.mode_analyser()"
      ]
    },
    {
      "cell_type": "code",
      "source": [],
      "metadata": {
        "id": "zfifEXzo5Kt7"
      },
      "execution_count": null,
      "outputs": []
    }
  ],
  "metadata": {
    "kernelspec": {
      "display_name": "sar_adc",
      "language": "python",
      "name": "python3"
    },
    "language_info": {
      "codemirror_mode": {
        "name": "ipython",
        "version": 3
      },
      "file_extension": ".py",
      "mimetype": "text/x-python",
      "name": "python",
      "nbconvert_exporter": "python",
      "pygments_lexer": "ipython3",
      "version": "3.11.10"
    },
    "toc": {
      "base_numbering": 1,
      "nav_menu": {},
      "number_sections": true,
      "sideBar": true,
      "skip_h1_title": false,
      "title_cell": "Table of Contents",
      "title_sidebar": "Contents",
      "toc_cell": false,
      "toc_position": {},
      "toc_section_display": true,
      "toc_window_display": false
    },
    "colab": {
      "provenance": []
    }
  },
  "nbformat": 4,
  "nbformat_minor": 0
}